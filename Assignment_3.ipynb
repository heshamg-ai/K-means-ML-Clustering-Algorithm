{
 "cells": [
  {
   "cell_type": "markdown",
   "metadata": {},
   "source": [
    "<h1><center>CSEN1022:Assignment 3</center></h1>\n",
    "<h3><center>Winter 2021</center></h3>\n",
    "<hr style=\"border:2px solid black\"> </hr>"
   ]
  },
  {
   "cell_type": "markdown",
   "metadata": {},
   "source": [
    "## <u> Please don't forget to fill in this data </u>\n",
    "**Member 1**\n",
    "\n",
    "Name: Hesham Abdulhamid \n",
    "\n",
    "GUC-ID: 43-1684\n",
    "\n",
    "Elective Tutorial No.: T-06\n",
    "\n",
    "**Member 2**\n",
    "\n",
    "Name: Muhammed Ehab\n",
    "\n",
    "GUC-ID: 43-7667\n",
    "\n",
    "Elective Tutorial No.: T-02\n",
    "\n",
    "<hr style=\"border:2px solid black\"> </hr>"
   ]
  },
  {
   "cell_type": "markdown",
   "metadata": {},
   "source": [
    "## Imports (Don't Edit)"
   ]
  },
  {
   "cell_type": "code",
   "execution_count": 1,
   "metadata": {},
   "outputs": [],
   "source": [
    "# ONLY USE THESE IMPORTS.\n",
    "# PLEASE DON'T EDIT THIS CELL.\n",
    "import numpy as np\n",
    "import matplotlib.pyplot as plt\n",
    "%matplotlib inline"
   ]
  },
  {
   "cell_type": "markdown",
   "metadata": {},
   "source": [
    "## Read Data"
   ]
  },
  {
   "cell_type": "code",
   "execution_count": 2,
   "metadata": {},
   "outputs": [],
   "source": [
    "# X_train, X_test\n",
    "# THE image categories are different.\n",
    "\n",
    "\n",
    "from PIL import Image\n",
    "\n",
    "def our_reshapeColors(image_array): \n",
    "    image_reshaped = np.zeros([1, len(image_array) * 3], dtype=float)\n",
    "    arr = np.reshape(image_array, 3072)\n",
    "    for x in range(len(arr)):\n",
    "        image_reshaped[0][x] = arr[x]\n",
    "    return image_reshaped\n",
    "\n",
    "def our_reshapeColors2(image_array,n): \n",
    "    image_reshaped = np.zeros([1, n*n*3], dtype=float)\n",
    "    arr = np.reshape(image_array, n*n*3)\n",
    "    for x in range(len(arr)):\n",
    "        image_reshaped[0][x] = arr[x]\n",
    "    return image_reshaped\n",
    "\n",
    "def readData():\n",
    "    nRGB = 3072\n",
    "    \n",
    "      ############### LOAD X-TRAIN ###########\n",
    "\n",
    "    x_train = np.zeros([15000, nRGB], dtype=float)\n",
    "\n",
    "    for x in range(5000):\n",
    "        trained_img = Image.open(\"C:/Users/Hesham Ghonim/Desktop/assignment_3-hghonim27-master/Data/train/airplane/\" + str(x) + \".jpg\")\n",
    "        image_sequence = trained_img.getdata()\n",
    "        image_array = np.array(image_sequence)\n",
    "        image_reshaped = our_reshapeColors(image_array)\n",
    "        for y in range(nRGB):\n",
    "            x_train[x][y]=image_reshaped[0][y]/255\n",
    "\n",
    "    for x in range(5000):\n",
    "        trained_img = Image.open(\"C:/Users/Hesham Ghonim/Desktop/assignment_3-hghonim27-master/Data/train/bird/\" + str(x) + \".jpg\")\n",
    "        image_sequence = trained_img.getdata()\n",
    "        image_array = np.array(image_sequence)\n",
    "        image_reshaped = our_reshapeColors(image_array)\n",
    "        for y in range(nRGB):\n",
    "            x_train[x+5000][y]=image_reshaped[0][y]/255\n",
    "\n",
    "    for x in range(5000):\n",
    "        trained_img = Image.open(\"C:/Users/Hesham Ghonim/Desktop/assignment_3-hghonim27-master/Data/train/truck/\" + str(x) + \".jpg\")\n",
    "        image_sequence = trained_img.getdata()\n",
    "        image_array = np.array(image_sequence)\n",
    "        image_reshaped = our_reshapeColors(image_array)\n",
    "        for y in range(nRGB):\n",
    "            x_train[x+10000][y]=image_reshaped[0][y]/255 \n",
    "            \n",
    "            \n",
    "     ############### LOAD X-TEST ###########\n",
    "\n",
    "    X_test = np.zeros([3000, nRGB], dtype=float)\n",
    "\n",
    "    for x in range(1000):\n",
    "        trained_img = Image.open(\"C:/Users/Hesham Ghonim/Desktop/assignment_3-hghonim27-master/Data/test/airplane/\" + str(x) + \".jpg\")\n",
    "        image_sequence = trained_img.getdata()\n",
    "        image_array = np.array(image_sequence)\n",
    "        image_reshaped = our_reshapeColors(image_array)\n",
    "        for y in range(nRGB):\n",
    "            X_test[x][y]=image_reshaped[0][y]/255\n",
    "\n",
    "    for x in range(1000):\n",
    "        trained_img = Image.open(\"C:/Users/Hesham Ghonim/Desktop/assignment_3-hghonim27-master/Data/test/bird/\" + str(x) + \".jpg\")\n",
    "        image_sequence = trained_img.getdata()\n",
    "        image_array = np.array(image_sequence)\n",
    "        image_reshaped = our_reshapeColors(image_array)\n",
    "        for y in range(nRGB):\n",
    "            X_test[x+1000][y]=image_reshaped[0][y]/255\n",
    "\n",
    "    for x in range(1000):\n",
    "        trained_img = Image.open(\"C:/Users/Hesham Ghonim/Desktop/assignment_3-hghonim27-master/Data/test/truck/\" + str(x) + \".jpg\")\n",
    "        image_sequence = trained_img.getdata()\n",
    "        image_array = np.array(image_sequence)\n",
    "        image_reshaped = our_reshapeColors(image_array)\n",
    "        for y in range(nRGB):\n",
    "            X_test[x+2000][y]=image_reshaped[0][y]/255\n",
    "            \n",
    "    return x_train,X_test\n",
    "            "
   ]
  },
  {
   "cell_type": "markdown",
   "metadata": {},
   "source": [
    "<hr style=\"border:2px solid black\"> </hr>\n",
    "\n",
    "# Perform K means clustering for all 3 classes (Training Data).\n",
    "### Return (memberships, centroids, dbi) --> (vector, matrix, scalar value)."
   ]
  },
  {
   "cell_type": "code",
   "execution_count": 99,
   "metadata": {},
   "outputs": [],
   "source": [
    "(x_train, X_test) = readData()"
   ]
  },
  {
   "cell_type": "code",
   "execution_count": 168,
   "metadata": {},
   "outputs": [],
   "source": [
    "def Calculate_Membership_Vector(Random_Centroids, x_train_data) :\n",
    "    euc_distances_0 = np.sqrt(np.square(x_train_data - Random_Centroids[0]).sum(axis = 1))\n",
    "    euc_distances_1 = np.sqrt(np.square(x_train_data - Random_Centroids[1]).sum(axis = 1))\n",
    "    euc_distances_2 = np.sqrt(np.square(x_train_data - Random_Centroids[2]).sum(axis = 1))\n",
    "\n",
    "    return np.argmin(np.concatenate([euc_distances_0, euc_distances_1, euc_distances_2]).reshape(3, -1), axis = 0)\n",
    "\n",
    "def Calculate_Centroids(Random_Centroids, x_train_data):\n",
    "    membership_vector = Calculate_Membership_Vector(Random_Centroids, x_train_data)\n",
    "    membership_vector.shape=((1,15000))\n",
    "\n",
    "    new_centroids     = np.ndarray((3, len(x_train_data[0])))\n",
    "    new_centroids[0]  = np.mean(x_train_data[membership_vector[0] == 0], axis = 0)\n",
    "    new_centroids[1]  = np.mean(x_train_data[membership_vector[0] == 1], axis = 0)\n",
    "    new_centroids[2]  = np.mean(x_train_data[membership_vector[0] == 2], axis = 0)\n",
    "\n",
    "    return (new_centroids, membership_vector) if np.array_equal(new_centroids, Random_Centroids) else Calculate_Centroids(new_centroids, x_train_data)\n",
    "\n",
    "def Calculate_DBI(new_centroids,x_train_data,membership_vector):\n",
    "    euc_distances_0 = np.sqrt(np.square(x_train_data[membership_vector[0] == 0] - new_centroids[0]).sum(axis = 1))\n",
    "    euc_distances_1 = np.sqrt(np.square(x_train_data[membership_vector[0] == 1] - new_centroids[1]).sum(axis = 1))\n",
    "    euc_distances_2 = np.sqrt(np.square(x_train_data[membership_vector[0] == 2] - new_centroids[2]).sum(axis = 1))\n",
    "    \n",
    "    S0=np.mean(euc_distances_0)\n",
    "    S1=np.mean(euc_distances_1)\n",
    "    S2=np.mean(euc_distances_2)\n",
    "    \n",
    "    \n",
    "    M01=(new_centroids[0]-new_centroids[1]).sum()\n",
    "    M02=(new_centroids[0]-new_centroids[2]).sum()\n",
    "    M12=(new_centroids[1]-new_centroids[2]).sum()\n",
    "    \n",
    "    R01 = (S0 + S1)/M01\n",
    "    R02 = (S0 + S2)/M02\n",
    "    R12 = (S1 + S2)/M12\n",
    "    \n",
    "    \n",
    "    return max(R01,R02,R12)\n",
    "\n",
    "def K_means_clustering (x_train):\n",
    "    \n",
    "    Random_Centroids=np.zeros((3,3072))\n",
    "    Random_Centroids=x_train[np.random.choice(x_train.shape[0], size = 3)]\n",
    "\n",
    "    new_centroids,membership_vector=Calculate_Centroids(Random_Centroids,x_train)\n",
    "    DBI_value=Calculate_DBI(new_centroids,x_train,membership_vector)\n",
    "\n",
    "    return (membership_vector, new_centroids, DBI_value)"
   ]
  },
  {
   "cell_type": "markdown",
   "metadata": {},
   "source": [
    "<hr style=\"border:2px solid black\"> </hr>\n",
    "\n",
    "# Repeat the previous process 10 times. \n",
    "### Pick the membership vector and the centroids matrix corresponding to the best dbi.\n",
    "##### Make sure you return max_counts and confusion_matrix.\n",
    "(keep history in whatever datastructure you like)."
   ]
  },
  {
   "cell_type": "code",
   "execution_count": 198,
   "metadata": {},
   "outputs": [],
   "source": [
    "def Calculate_Predictors(centroids, membership_vector, data):\n",
    "    cluster_1 = [len(data[:5000][membership_vector[0][:5000] == 0]), \n",
    "                 len(data[:5000][membership_vector[0][:5000] == 1]), \n",
    "                 len(data[:5000][membership_vector[0][:5000] == 2])] \n",
    "\n",
    "    cluster_2 = [len(data[5000:10000][membership_vector[0][5000:10000] == 0]), \n",
    "                 len(data[5000:10000][membership_vector[0][5000:10000] == 1]), \n",
    "                 len(data[5000:10000][membership_vector[0][5000:10000] == 2])]\n",
    "\n",
    "    cluster_3 = [len(data[10000:][membership_vector[0][10000:] == 0]), \n",
    "                 len(data[10000:][membership_vector[0][10000:] == 1]), \n",
    "                 len(data[10000:][membership_vector[0][10000:] == 2])]\n",
    "\n",
    "    airplane_cluster_index = np.argmax([cluster_1])\n",
    "    bird_cluster_index     = np.argmax([cluster_2])\n",
    "    truck_cluster_index    = np.argmax([cluster_3])\n",
    "\n",
    "    return (np.concatenate([centroids[airplane_cluster_index], centroids[bird_cluster_index], centroids[truck_cluster_index]]).reshape(3, -1), \n",
    "                           np.array([cluster_1[airplane_cluster_index], cluster_2[bird_cluster_index], cluster_3[truck_cluster_index]]))"
   ]
  },
  {
   "cell_type": "code",
   "execution_count": 206,
   "metadata": {},
   "outputs": [],
   "source": [
    "history=[]\n",
    "for i in range(10):\n",
    "    mv,centroid,dbi=K_means_clustering (x_train)\n",
    "    history.append(dbi)\n",
    "    history.append(mv)\n",
    "    history.append(centroid)\n",
    "    \n",
    "filter_indices = [0,3,6,9,12,15,18,21,24,27]\n",
    "history=np.asarray(history)\n",
    "best_dbi_index=np.argmin(history[filter_indices])\n",
    "\n",
    "best_dbi = history[best_dbi_index*3]\n",
    "best_membership_matrix = history[best_dbi_index*3+1]\n",
    "best_centroids = history[best_dbi_index*3+2]\n",
    "\n",
    "\n",
    "predictors, counts = Calculate_Predictors(best_centroids, best_membership_matrix, x_train)\n",
    "Row = Calculate_Membership_Vector(predictors, X_test)\n",
    "\n",
    "max_counts = counts\n",
    "confusion_matrix = np.array([[len(X_test[: 1000][Row[: 1000] == 0]), \n",
    "                             len(X_test[: 1000][Row[: 1000] == 1]), \n",
    "                             len(X_test[: 1000][Row[: 1000] == 2])], \n",
    "                            [len(X_test[1000 : 2000][Row[1000 : 2000] == 0]), \n",
    "                             len(X_test[1000 : 2000][Row[1000 : 2000] == 1]), \n",
    "                             len(X_test[1000 : 2000][Row[1000 : 2000] == 2])], \n",
    "                            [len(X_test[2000:][Row[2000:] == 0]), \n",
    "                             len(X_test[2000:][Row[2000:] == 1]), \n",
    "                             len(X_test[2000:][Row[2000:] == 2])]\n",
    "                            ])\n",
    "\n"
   ]
  },
  {
   "cell_type": "markdown",
   "metadata": {},
   "source": [
    "<hr style=\"border:2px solid black\"> </hr>\n",
    "\n",
    "## Don't Edit the Following Cells, Just Run & Save them."
   ]
  },
  {
   "cell_type": "code",
   "execution_count": 208,
   "metadata": {},
   "outputs": [
    {
     "data": {
      "text/plain": [
       "Text(0.5, 1.0, 'Best Counts')"
      ]
     },
     "execution_count": 208,
     "metadata": {},
     "output_type": "execute_result"
    },
    {
     "data": {
      "image/png": "[encoded data removed]",
      "text/plain": [
       "<Figure size 720x432 with 1 Axes>"
      ]
     },
     "metadata": {
      "needs_background": "light"
     },
     "output_type": "display_data"
    }
   ],
   "source": [
    "plt.figure(figsize=(10,6))\n",
    "plt.plot(['Airplane','Bird','Truck'],max_counts,'-o')\n",
    "plt.title('Best Counts')"
   ]
  },
  {
   "cell_type": "code",
   "execution_count": 209,
   "metadata": {},
   "outputs": [
    {
     "data": {
      "image/png": "[encoded data removed]",
      "text/plain": [
       "<Figure size 360x360 with 1 Axes>"
      ]
     },
     "metadata": {
      "needs_background": "light"
     },
     "output_type": "display_data"
    }
   ],
   "source": [
    "plt.rc('figure', figsize=[5,5])\n",
    "plt.matshow(confusion_matrix,cmap=\"Blues\")\n",
    "for i in range(0,confusion_matrix.shape[0]):\n",
    "    for j in range(0,confusion_matrix.shape[1]):\n",
    "        plt.annotate(confusion_matrix[i,j],(j,i))"
   ]
  }
 ],
 "metadata": {
  "interpreter": {
   "hash": "31f2aee4e71d21fbe5cf8b01ff0e069b9275f58929596ceb00d14d90e3e16cd6"
  },
  "kernelspec": {
   "display_name": "Python 3 (ipykernel)",
   "language": "python",
   "name": "python3"
  },
  "language_info": {
   "codemirror_mode": {
    "name": "ipython",
    "version": 3
   },
   "file_extension": ".py",
   "mimetype": "text/x-python",
   "name": "python",
   "nbconvert_exporter": "python",
   "pygments_lexer": "ipython3",
   "version": "3.9.1"
  }
 },
 "nbformat": 4,
 "nbformat_minor": 4
}
